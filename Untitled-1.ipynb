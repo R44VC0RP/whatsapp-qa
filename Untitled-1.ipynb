{
 "cells": [
  {
   "cell_type": "code",
   "execution_count": 1,
   "metadata": {},
   "outputs": [
    {
     "name": "stdout",
     "output_type": "stream",
     "text": [
      "Requirement already satisfied: twilio in /opt/homebrew/lib/python3.10/site-packages (8.2.1)\n",
      "Requirement already satisfied: pytz in /opt/homebrew/lib/python3.10/site-packages (from twilio) (2022.7.1)\n",
      "Requirement already satisfied: requests>=2.0.0 in /opt/homebrew/lib/python3.10/site-packages (from twilio) (2.28.1)\n",
      "Requirement already satisfied: PyJWT<3.0.0,>=2.0.0 in /opt/homebrew/lib/python3.10/site-packages (from twilio) (2.6.0)\n",
      "Requirement already satisfied: aiohttp>=3.8.4 in /opt/homebrew/lib/python3.10/site-packages (from twilio) (3.8.4)\n",
      "Requirement already satisfied: aiohttp-retry>=2.8.3 in /opt/homebrew/lib/python3.10/site-packages (from twilio) (2.8.3)\n",
      "Requirement already satisfied: attrs>=17.3.0 in /opt/homebrew/lib/python3.10/site-packages (from aiohttp>=3.8.4->twilio) (22.2.0)\n",
      "Requirement already satisfied: charset-normalizer<4.0,>=2.0 in /opt/homebrew/lib/python3.10/site-packages (from aiohttp>=3.8.4->twilio) (2.1.1)\n",
      "Requirement already satisfied: multidict<7.0,>=4.5 in /opt/homebrew/lib/python3.10/site-packages (from aiohttp>=3.8.4->twilio) (6.0.4)\n",
      "Requirement already satisfied: async-timeout<5.0,>=4.0.0a3 in /opt/homebrew/lib/python3.10/site-packages (from aiohttp>=3.8.4->twilio) (4.0.2)\n",
      "Requirement already satisfied: yarl<2.0,>=1.0 in /opt/homebrew/lib/python3.10/site-packages (from aiohttp>=3.8.4->twilio) (1.8.2)\n",
      "Requirement already satisfied: frozenlist>=1.1.1 in /opt/homebrew/lib/python3.10/site-packages (from aiohttp>=3.8.4->twilio) (1.3.3)\n",
      "Requirement already satisfied: aiosignal>=1.1.2 in /opt/homebrew/lib/python3.10/site-packages (from aiohttp>=3.8.4->twilio) (1.3.1)\n",
      "Requirement already satisfied: idna<4,>=2.5 in /opt/homebrew/lib/python3.10/site-packages (from requests>=2.0.0->twilio) (2.10)\n",
      "Requirement already satisfied: urllib3<1.27,>=1.21.1 in /opt/homebrew/lib/python3.10/site-packages (from requests>=2.0.0->twilio) (1.26.13)\n",
      "Requirement already satisfied: certifi>=2017.4.17 in /opt/homebrew/lib/python3.10/site-packages (from requests>=2.0.0->twilio) (2022.12.7)\n",
      "Note: you may need to restart the kernel to use updated packages.\n"
     ]
    },
    {
     "ename": "TwilioRestException",
     "evalue": "HTTP 401 error: Unable to create record: Authenticate",
     "output_type": "error",
     "traceback": [
      "\u001b[0;31m---------------------------------------------------------------------------\u001b[0m",
      "\u001b[0;31mTwilioRestException\u001b[0m                       Traceback (most recent call last)",
      "Cell \u001b[0;32mIn[1], line 10\u001b[0m\n\u001b[1;32m      7\u001b[0m auth_token \u001b[39m=\u001b[39m \u001b[39m'\u001b[39m\u001b[39mb35b4abd8dce8340c9494dedbaea75d2\u001b[39m\u001b[39m'\u001b[39m\n\u001b[1;32m      8\u001b[0m client \u001b[39m=\u001b[39m Client(account_sid, auth_token)\n\u001b[0;32m---> 10\u001b[0m message \u001b[39m=\u001b[39m client\u001b[39m.\u001b[39;49mmessages\u001b[39m.\u001b[39;49mcreate(\n\u001b[1;32m     11\u001b[0m   from_\u001b[39m=\u001b[39;49m\u001b[39m'\u001b[39;49m\u001b[39mwhatsapp:+14155238886\u001b[39;49m\u001b[39m'\u001b[39;49m,\n\u001b[1;32m     12\u001b[0m   body\u001b[39m=\u001b[39;49m\u001b[39m'\u001b[39;49m\u001b[39mYour appointment is coming up on July 21 at 3PM\u001b[39;49m\u001b[39m'\u001b[39;49m,\n\u001b[1;32m     13\u001b[0m   to\u001b[39m=\u001b[39;49m\u001b[39m'\u001b[39;49m\u001b[39mwhatsapp:+19046086893\u001b[39;49m\u001b[39m'\u001b[39;49m\n\u001b[1;32m     14\u001b[0m )\n\u001b[1;32m     16\u001b[0m \u001b[39mprint\u001b[39m(message\u001b[39m.\u001b[39msid)\n",
      "File \u001b[0;32m/opt/homebrew/lib/python3.10/site-packages/twilio/rest/api/v2010/account/message/__init__.py:551\u001b[0m, in \u001b[0;36mMessageList.create\u001b[0;34m(self, to, status_callback, application_sid, max_price, provide_feedback, attempt, validity_period, force_delivery, content_retention, address_retention, smart_encoded, persistent_action, shorten_urls, schedule_type, send_at, send_as_mms, content_sid, content_variables, from_, messaging_service_sid, body, media_url)\u001b[0m\n\u001b[1;32m    496\u001b[0m \u001b[39m\u001b[39m\u001b[39m\"\"\"\u001b[39;00m\n\u001b[1;32m    497\u001b[0m \u001b[39mCreate the MessageInstance\u001b[39;00m\n\u001b[1;32m    498\u001b[0m \n\u001b[0;32m   (...)\u001b[0m\n\u001b[1;32m    522\u001b[0m \u001b[39m:returns: The created MessageInstance\u001b[39;00m\n\u001b[1;32m    523\u001b[0m \u001b[39m\"\"\"\u001b[39;00m\n\u001b[1;32m    524\u001b[0m data \u001b[39m=\u001b[39m values\u001b[39m.\u001b[39mof(\n\u001b[1;32m    525\u001b[0m     {\n\u001b[1;32m    526\u001b[0m         \u001b[39m\"\u001b[39m\u001b[39mTo\u001b[39m\u001b[39m\"\u001b[39m: to,\n\u001b[0;32m   (...)\u001b[0m\n\u001b[1;32m    548\u001b[0m     }\n\u001b[1;32m    549\u001b[0m )\n\u001b[0;32m--> 551\u001b[0m payload \u001b[39m=\u001b[39m \u001b[39mself\u001b[39;49m\u001b[39m.\u001b[39;49m_version\u001b[39m.\u001b[39;49mcreate(\n\u001b[1;32m    552\u001b[0m     method\u001b[39m=\u001b[39;49m\u001b[39m\"\u001b[39;49m\u001b[39mPOST\u001b[39;49m\u001b[39m\"\u001b[39;49m,\n\u001b[1;32m    553\u001b[0m     uri\u001b[39m=\u001b[39;49m\u001b[39mself\u001b[39;49m\u001b[39m.\u001b[39;49m_uri,\n\u001b[1;32m    554\u001b[0m     data\u001b[39m=\u001b[39;49mdata,\n\u001b[1;32m    555\u001b[0m )\n\u001b[1;32m    557\u001b[0m \u001b[39mreturn\u001b[39;00m MessageInstance(\n\u001b[1;32m    558\u001b[0m     \u001b[39mself\u001b[39m\u001b[39m.\u001b[39m_version, payload, account_sid\u001b[39m=\u001b[39m\u001b[39mself\u001b[39m\u001b[39m.\u001b[39m_solution[\u001b[39m\"\u001b[39m\u001b[39maccount_sid\u001b[39m\u001b[39m\"\u001b[39m]\n\u001b[1;32m    559\u001b[0m )\n",
      "File \u001b[0;32m/opt/homebrew/lib/python3.10/site-packages/twilio/base/version.py:465\u001b[0m, in \u001b[0;36mVersion.create\u001b[0;34m(self, method, uri, params, data, headers, auth, timeout, allow_redirects)\u001b[0m\n\u001b[1;32m    451\u001b[0m \u001b[39m\u001b[39m\u001b[39m\"\"\"\u001b[39;00m\n\u001b[1;32m    452\u001b[0m \u001b[39mCreate a resource instance.\u001b[39;00m\n\u001b[1;32m    453\u001b[0m \u001b[39m\"\"\"\u001b[39;00m\n\u001b[1;32m    454\u001b[0m response \u001b[39m=\u001b[39m \u001b[39mself\u001b[39m\u001b[39m.\u001b[39mrequest(\n\u001b[1;32m    455\u001b[0m     method,\n\u001b[1;32m    456\u001b[0m     uri,\n\u001b[0;32m   (...)\u001b[0m\n\u001b[1;32m    462\u001b[0m     allow_redirects\u001b[39m=\u001b[39mallow_redirects,\n\u001b[1;32m    463\u001b[0m )\n\u001b[0;32m--> 465\u001b[0m \u001b[39mreturn\u001b[39;00m \u001b[39mself\u001b[39;49m\u001b[39m.\u001b[39;49m_parse_create(method, uri, response)\n",
      "File \u001b[0;32m/opt/homebrew/lib/python3.10/site-packages/twilio/base/version.py:436\u001b[0m, in \u001b[0;36mVersion._parse_create\u001b[0;34m(self, method, uri, response)\u001b[0m\n\u001b[1;32m    432\u001b[0m \u001b[39m\u001b[39m\u001b[39m\"\"\"\u001b[39;00m\n\u001b[1;32m    433\u001b[0m \u001b[39mParse create response JSON\u001b[39;00m\n\u001b[1;32m    434\u001b[0m \u001b[39m\"\"\"\u001b[39;00m\n\u001b[1;32m    435\u001b[0m \u001b[39mif\u001b[39;00m response\u001b[39m.\u001b[39mstatus_code \u001b[39m<\u001b[39m \u001b[39m200\u001b[39m \u001b[39mor\u001b[39;00m response\u001b[39m.\u001b[39mstatus_code \u001b[39m>\u001b[39m\u001b[39m=\u001b[39m \u001b[39m300\u001b[39m:\n\u001b[0;32m--> 436\u001b[0m     \u001b[39mraise\u001b[39;00m \u001b[39mself\u001b[39m\u001b[39m.\u001b[39mexception(method, uri, response, \u001b[39m\"\u001b[39m\u001b[39mUnable to create record\u001b[39m\u001b[39m\"\u001b[39m)\n\u001b[1;32m    438\u001b[0m \u001b[39mreturn\u001b[39;00m json\u001b[39m.\u001b[39mloads(response\u001b[39m.\u001b[39mtext)\n",
      "\u001b[0;31mTwilioRestException\u001b[0m: HTTP 401 error: Unable to create record: Authenticate"
     ]
    }
   ],
   "source": [
    "# Install Twilio\n",
    "%pip install twilio\n",
    "\n",
    "from twilio.rest import Client\n",
    "\n",
    "account_sid = 'AC259ca8d67beca82b2aff9a231ad6ff83'\n",
    "auth_token = 'b35b4abd8dce8340c9494dedbaea75d2'\n",
    "client = Client(account_sid, auth_token)\n",
    "\n",
    "message = client.messages.create(\n",
    "  from_='whatsapp:+14155238886',\n",
    "  body='Your appointment is coming up on July 21 at 3PM',\n",
    "  to='whatsapp:+19046086893'\n",
    ")\n",
    "\n",
    "print(message.sid)"
   ]
  }
 ],
 "metadata": {
  "kernelspec": {
   "display_name": "Python 3",
   "language": "python",
   "name": "python3"
  },
  "language_info": {
   "codemirror_mode": {
    "name": "ipython",
    "version": 3
   },
   "file_extension": ".py",
   "mimetype": "text/x-python",
   "name": "python",
   "nbconvert_exporter": "python",
   "pygments_lexer": "ipython3",
   "version": "3.10.9"
  },
  "orig_nbformat": 4
 },
 "nbformat": 4,
 "nbformat_minor": 2
}
